{
 "metadata": {
  "language_info": {
   "codemirror_mode": {
    "name": "ipython",
    "version": 3
   },
   "file_extension": ".py",
   "mimetype": "text/x-python",
   "name": "python",
   "nbconvert_exporter": "python",
   "pygments_lexer": "ipython3",
   "version": "3.8.8"
  },
  "orig_nbformat": 2,
  "kernelspec": {
   "name": "python388jvsc74a57bd00ee331321a9a075ceb5dd851b0096fd7d04a308855411bb4d0c4ecd76c1785a0",
   "display_name": "Python 3.8.8 64-bit ('DeepLearning': conda)"
  }
 },
 "nbformat": 4,
 "nbformat_minor": 2,
 "cells": [
  {
   "cell_type": "code",
   "execution_count": 1,
   "metadata": {},
   "outputs": [],
   "source": [
    "import numpy as np\n",
    "import pandas as pd\n",
    "import matplotlib.pyplot as plt\n",
    "import cv2\n",
    "from skimage import io\n",
    "from glob import glob\n",
    "from os import listdir"
   ]
  },
  {
   "cell_type": "code",
   "execution_count": 3,
   "metadata": {},
   "outputs": [],
   "source": [
    "def dfs(img,coordinates,i,j,visited):\n",
    "    if i<0 or i>=img.shape[0] or j<0 or j>=img.shape[1] or img[i][j]==0 or visited[i][j]==1:\n",
    "        return\n",
    "        \n",
    "    visited[i][j]=1;\n",
    "    if i<coordinates[0]:\n",
    "        coordinates[0]=i;\n",
    "    if i>coordinates[1]:\n",
    "        coordinates[1]=i;\n",
    "    if j<coordinates[2]:\n",
    "        coordinates[2]=j;\n",
    "    if j>coordinates[3]:\n",
    "        coordinates[3]=j;\n",
    "    \n",
    "    dfs(img,coordinates,i+1,j,visited);\n",
    "    dfs(img,coordinates,i,j+1,visited);\n",
    "    dfs(img,coordinates,i-1,j,visited);\n",
    "    dfs(img,coordinates,i,j-1,visited);"
   ]
  },
  {
   "cell_type": "code",
   "execution_count": 4,
   "metadata": {},
   "outputs": [],
   "source": [
    "def MarkObject(img):\n",
    "    \n",
    "    visited=np.zeros((img.shape[0],img.shape[1]))\n",
    "\n",
    "    clist=[]\n",
    "    for i in range(0,img.shape[0]):\n",
    "        for j in range(0,img.shape[1]):\n",
    "            if img[i][j]==0 or visited[i][j]==1:\n",
    "                continue\n",
    "            c=[i,i,j,j]\n",
    "            dfs(img,c,i,j,visited)\n",
    "            if c[0]!=c[1] and c[2]!=c[3]:\n",
    "                clist.append(c)\n",
    "    return clist"
   ]
  },
  {
   "cell_type": "code",
   "execution_count": 5,
   "metadata": {},
   "outputs": [],
   "source": [
    "def GetCoordinates(img,istart,iend,jstart,jend):\n",
    "    \n",
    "    clist=np.array(MarkObject(img[istart:iend,jstart:jend]))\n",
    "    ##print(clist)\n",
    "    if len(clist)>0:\n",
    "        df=pd.DataFrame({'top':clist[:,0]+istart,'bottom':clist[:,1]+istart,'left':clist[:,2]+jstart,'right':clist[:,3]+jstart})\n",
    "        #df.to_csv(('coordinates_{}_{}_{}_{}.csv').format(istart,iend,jstart,jend))\n",
    "        return df\n",
    "    else:\n",
    "        return None"
   ]
  },
  {
   "cell_type": "code",
   "execution_count": 6,
   "metadata": {},
   "outputs": [
    {
     "output_type": "execute_result",
     "data": {
      "text/plain": [
       "['Composite Images\\\\20190508-C2GNT1-EGFP-Noc-01-Data Preparation\\\\',\n",
       " 'Composite Images\\\\20190508-C2GNT1-EGFP-Noc-02-Data Preparation\\\\',\n",
       " 'Composite Images\\\\20190508-C2GNT1-EGFP-Noc-03-Data Preparation\\\\',\n",
       " 'Composite Images\\\\20190508-C2GNT1-EGFP-Noc-04-Data Preparation\\\\',\n",
       " 'Composite Images\\\\20190508-C2GNT1-EGFP-Noc-05-Data Preparation\\\\',\n",
       " 'Composite Images\\\\20190508-GALNT4-EGFP-Noc-01-Data Preparation\\\\',\n",
       " 'Composite Images\\\\20190508-GALNT4-EGFP-Noc-02-Data Preparation\\\\',\n",
       " 'Composite Images\\\\20190508-GALNT4-EGFP-Noc-03-Data Preparation\\\\',\n",
       " 'Composite Images\\\\20190508-GALNT4-EGFP-Noc-04-Data Preparation\\\\',\n",
       " 'Composite Images\\\\20190508-GALNT4-EGFP-Noc-05-Data Preparation\\\\',\n",
       " 'Composite Images\\\\20190508-GALNT8-EGFP-Noc-01-Data Preparation\\\\',\n",
       " 'Composite Images\\\\20190508-GALNT8-EGFP-Noc-02-Data Preparation\\\\',\n",
       " 'Composite Images\\\\20190508-GALNT8-EGFP-Noc-03-Data Preparation\\\\',\n",
       " 'Composite Images\\\\20190508-GALNT8-EGFP-Noc-04-Data Preparation\\\\',\n",
       " 'Composite Images\\\\20190508-GALNT8-EGFP-Noc-05-Data Preparation\\\\',\n",
       " 'Composite Images\\\\20190508-GALNT8-EGFP-Noc-06-Data Preparation\\\\',\n",
       " 'Composite Images\\\\20190508-GALNT8-EGFP-Noc-07-Data Preparation\\\\',\n",
       " 'Composite Images\\\\20190508-GALNT8-EGFP-Noc-08-Data Preparation\\\\',\n",
       " 'Composite Images\\\\20190508-tetraspeckbeads-aft-01-Data Preparation\\\\',\n",
       " 'Composite Images\\\\20190508-tetraspeckbeads-bef-01-Data Preparation\\\\',\n",
       " 'Composite Images\\\\20190508-VIP36-EGFP-Noc-01-Data Preparation\\\\',\n",
       " 'Composite Images\\\\20190508-VIP36-EGFP-Noc-02-Data Preparation\\\\',\n",
       " 'Composite Images\\\\20190508-VIP36-EGFP-Noc-03-Data Preparation\\\\',\n",
       " 'Composite Images\\\\20190508-VIP36-EGFP-Noc-04-Data Preparation\\\\',\n",
       " 'Composite Images\\\\20190508-VIP36-EGFP-Noc-05-Data Preparation\\\\',\n",
       " 'Composite Images\\\\20190508-VIP36-EGFP-Noc-06-Data Preparation\\\\',\n",
       " 'Composite Images\\\\20190508-VIP36-EGFP-Noc-07-Data Preparation\\\\',\n",
       " 'Composite Images\\\\20190508-VIP36-EGFP-Noc-08-Data Preparation\\\\',\n",
       " 'Composite Images\\\\20190823-EGFP-Golph3-Noc-01-Data Preparation\\\\',\n",
       " 'Composite Images\\\\20190823-EGFP-Golph3-Noc-02-Data Preparation\\\\',\n",
       " 'Composite Images\\\\20190823-EGFP-Golph3-Noc-03-Data Preparation\\\\',\n",
       " 'Composite Images\\\\20190823-EGFP-Golph3-Noc-04-Data Preparation\\\\',\n",
       " 'Composite Images\\\\20190823-EGFP-Golph3-Noc-05-Data Preparation\\\\',\n",
       " 'Composite Images\\\\20190823-EGFP-Golph3-Noc-06-Data Preparation\\\\',\n",
       " 'Composite Images\\\\20190823-EGFP-Golph3-Noc-07-Data Preparation\\\\',\n",
       " 'Composite Images\\\\20190823-EGFP-Golph3-Noc-08-Data Preparation\\\\',\n",
       " 'Composite Images\\\\20190823-EGFP-Golph3-Noc-09-Data Preparation\\\\',\n",
       " 'Composite Images\\\\20190823-EGFP-Golph3-Noc-10-Data Preparation\\\\',\n",
       " 'Composite Images\\\\20190823-tetraspeckbeads-aft-01-Data Preparation\\\\',\n",
       " 'Composite Images\\\\20190823-tetraspeckbeads-bef-01-Data Preparation\\\\']"
      ]
     },
     "metadata": {},
     "execution_count": 6
    }
   ],
   "source": [
    "folders_composite=glob(\"Composite Images/*/\")\n",
    "folders_composite"
   ]
  },
  {
   "cell_type": "code",
   "execution_count": 7,
   "metadata": {},
   "outputs": [
    {
     "output_type": "execute_result",
     "data": {
      "text/plain": [
       "                              label\n",
       "0       20190508-C2GNT1-EGFP-Noc-01\n",
       "1       20190508-C2GNT1-EGFP-Noc-02\n",
       "2       20190508-C2GNT1-EGFP-Noc-03\n",
       "3       20190508-C2GNT1-EGFP-Noc-04\n",
       "4       20190508-C2GNT1-EGFP-Noc-05\n",
       "5       20190508-GALNT4-EGFP-Noc-01\n",
       "6       20190508-GALNT4-EGFP-Noc-02\n",
       "7       20190508-GALNT4-EGFP-Noc-03\n",
       "8       20190508-GALNT4-EGFP-Noc-04\n",
       "9       20190508-GALNT4-EGFP-Noc-05\n",
       "10      20190508-GALNT8-EGFP-Noc-01\n",
       "11      20190508-GALNT8-EGFP-Noc-02\n",
       "12      20190508-GALNT8-EGFP-Noc-03\n",
       "13      20190508-GALNT8-EGFP-Noc-04\n",
       "14      20190508-GALNT8-EGFP-Noc-05\n",
       "15      20190508-GALNT8-EGFP-Noc-06\n",
       "16      20190508-GALNT8-EGFP-Noc-07\n",
       "17      20190508-GALNT8-EGFP-Noc-08\n",
       "18  20190508-tetraspeckbeads-aft-01\n",
       "19  20190508-tetraspeckbeads-bef-01\n",
       "20       20190508-VIP36-EGFP-Noc-01\n",
       "21       20190508-VIP36-EGFP-Noc-02\n",
       "22       20190508-VIP36-EGFP-Noc-03\n",
       "23       20190508-VIP36-EGFP-Noc-04\n",
       "24       20190508-VIP36-EGFP-Noc-05\n",
       "25       20190508-VIP36-EGFP-Noc-06\n",
       "26       20190508-VIP36-EGFP-Noc-07\n",
       "27       20190508-VIP36-EGFP-Noc-08\n",
       "28      20190823-EGFP-Golph3-Noc-01\n",
       "29      20190823-EGFP-Golph3-Noc-02\n",
       "30      20190823-EGFP-Golph3-Noc-03\n",
       "31      20190823-EGFP-Golph3-Noc-04\n",
       "32      20190823-EGFP-Golph3-Noc-05\n",
       "33      20190823-EGFP-Golph3-Noc-06\n",
       "34      20190823-EGFP-Golph3-Noc-07\n",
       "35      20190823-EGFP-Golph3-Noc-08\n",
       "36      20190823-EGFP-Golph3-Noc-09\n",
       "37      20190823-EGFP-Golph3-Noc-10\n",
       "38  20190823-tetraspeckbeads-aft-01\n",
       "39  20190823-tetraspeckbeads-bef-01"
      ],
      "text/html": "<div>\n<style scoped>\n    .dataframe tbody tr th:only-of-type {\n        vertical-align: middle;\n    }\n\n    .dataframe tbody tr th {\n        vertical-align: top;\n    }\n\n    .dataframe thead th {\n        text-align: right;\n    }\n</style>\n<table border=\"1\" class=\"dataframe\">\n  <thead>\n    <tr style=\"text-align: right;\">\n      <th></th>\n      <th>label</th>\n    </tr>\n  </thead>\n  <tbody>\n    <tr>\n      <th>0</th>\n      <td>20190508-C2GNT1-EGFP-Noc-01</td>\n    </tr>\n    <tr>\n      <th>1</th>\n      <td>20190508-C2GNT1-EGFP-Noc-02</td>\n    </tr>\n    <tr>\n      <th>2</th>\n      <td>20190508-C2GNT1-EGFP-Noc-03</td>\n    </tr>\n    <tr>\n      <th>3</th>\n      <td>20190508-C2GNT1-EGFP-Noc-04</td>\n    </tr>\n    <tr>\n      <th>4</th>\n      <td>20190508-C2GNT1-EGFP-Noc-05</td>\n    </tr>\n    <tr>\n      <th>5</th>\n      <td>20190508-GALNT4-EGFP-Noc-01</td>\n    </tr>\n    <tr>\n      <th>6</th>\n      <td>20190508-GALNT4-EGFP-Noc-02</td>\n    </tr>\n    <tr>\n      <th>7</th>\n      <td>20190508-GALNT4-EGFP-Noc-03</td>\n    </tr>\n    <tr>\n      <th>8</th>\n      <td>20190508-GALNT4-EGFP-Noc-04</td>\n    </tr>\n    <tr>\n      <th>9</th>\n      <td>20190508-GALNT4-EGFP-Noc-05</td>\n    </tr>\n    <tr>\n      <th>10</th>\n      <td>20190508-GALNT8-EGFP-Noc-01</td>\n    </tr>\n    <tr>\n      <th>11</th>\n      <td>20190508-GALNT8-EGFP-Noc-02</td>\n    </tr>\n    <tr>\n      <th>12</th>\n      <td>20190508-GALNT8-EGFP-Noc-03</td>\n    </tr>\n    <tr>\n      <th>13</th>\n      <td>20190508-GALNT8-EGFP-Noc-04</td>\n    </tr>\n    <tr>\n      <th>14</th>\n      <td>20190508-GALNT8-EGFP-Noc-05</td>\n    </tr>\n    <tr>\n      <th>15</th>\n      <td>20190508-GALNT8-EGFP-Noc-06</td>\n    </tr>\n    <tr>\n      <th>16</th>\n      <td>20190508-GALNT8-EGFP-Noc-07</td>\n    </tr>\n    <tr>\n      <th>17</th>\n      <td>20190508-GALNT8-EGFP-Noc-08</td>\n    </tr>\n    <tr>\n      <th>18</th>\n      <td>20190508-tetraspeckbeads-aft-01</td>\n    </tr>\n    <tr>\n      <th>19</th>\n      <td>20190508-tetraspeckbeads-bef-01</td>\n    </tr>\n    <tr>\n      <th>20</th>\n      <td>20190508-VIP36-EGFP-Noc-01</td>\n    </tr>\n    <tr>\n      <th>21</th>\n      <td>20190508-VIP36-EGFP-Noc-02</td>\n    </tr>\n    <tr>\n      <th>22</th>\n      <td>20190508-VIP36-EGFP-Noc-03</td>\n    </tr>\n    <tr>\n      <th>23</th>\n      <td>20190508-VIP36-EGFP-Noc-04</td>\n    </tr>\n    <tr>\n      <th>24</th>\n      <td>20190508-VIP36-EGFP-Noc-05</td>\n    </tr>\n    <tr>\n      <th>25</th>\n      <td>20190508-VIP36-EGFP-Noc-06</td>\n    </tr>\n    <tr>\n      <th>26</th>\n      <td>20190508-VIP36-EGFP-Noc-07</td>\n    </tr>\n    <tr>\n      <th>27</th>\n      <td>20190508-VIP36-EGFP-Noc-08</td>\n    </tr>\n    <tr>\n      <th>28</th>\n      <td>20190823-EGFP-Golph3-Noc-01</td>\n    </tr>\n    <tr>\n      <th>29</th>\n      <td>20190823-EGFP-Golph3-Noc-02</td>\n    </tr>\n    <tr>\n      <th>30</th>\n      <td>20190823-EGFP-Golph3-Noc-03</td>\n    </tr>\n    <tr>\n      <th>31</th>\n      <td>20190823-EGFP-Golph3-Noc-04</td>\n    </tr>\n    <tr>\n      <th>32</th>\n      <td>20190823-EGFP-Golph3-Noc-05</td>\n    </tr>\n    <tr>\n      <th>33</th>\n      <td>20190823-EGFP-Golph3-Noc-06</td>\n    </tr>\n    <tr>\n      <th>34</th>\n      <td>20190823-EGFP-Golph3-Noc-07</td>\n    </tr>\n    <tr>\n      <th>35</th>\n      <td>20190823-EGFP-Golph3-Noc-08</td>\n    </tr>\n    <tr>\n      <th>36</th>\n      <td>20190823-EGFP-Golph3-Noc-09</td>\n    </tr>\n    <tr>\n      <th>37</th>\n      <td>20190823-EGFP-Golph3-Noc-10</td>\n    </tr>\n    <tr>\n      <th>38</th>\n      <td>20190823-tetraspeckbeads-aft-01</td>\n    </tr>\n    <tr>\n      <th>39</th>\n      <td>20190823-tetraspeckbeads-bef-01</td>\n    </tr>\n  </tbody>\n</table>\n</div>"
     },
     "metadata": {},
     "execution_count": 7
    }
   ],
   "source": [
    "labels=pd.read_csv('labels.csv',index_col=0)\n",
    "labels"
   ]
  },
  {
   "cell_type": "code",
   "execution_count": 10,
   "metadata": {},
   "outputs": [
    {
     "output_type": "stream",
     "name": "stdout",
     "text": [
      "Done with 20190508-C2GNT1-EGFP-Noc-02\nDone with 20190508-C2GNT1-EGFP-Noc-03\nDone with 20190508-C2GNT1-EGFP-Noc-04\nDone with 20190508-C2GNT1-EGFP-Noc-05\nDone with 20190508-GALNT4-EGFP-Noc-01\nDone with 20190508-GALNT4-EGFP-Noc-02\nDone with 20190508-GALNT4-EGFP-Noc-03\nDone with 20190508-GALNT4-EGFP-Noc-04\nDone with 20190508-GALNT4-EGFP-Noc-05\nDone with 20190508-GALNT8-EGFP-Noc-01\nDone with 20190508-GALNT8-EGFP-Noc-02\nDone with 20190508-GALNT8-EGFP-Noc-03\nDone with 20190508-GALNT8-EGFP-Noc-04\nDone with 20190508-GALNT8-EGFP-Noc-05\nDone with 20190508-GALNT8-EGFP-Noc-06\nDone with 20190508-GALNT8-EGFP-Noc-07\nDone with 20190508-GALNT8-EGFP-Noc-08\nDone with 20190508-tetraspeckbeads-aft-01\nDone with 20190508-tetraspeckbeads-bef-01\nDone with 20190508-VIP36-EGFP-Noc-01\nDone with 20190508-VIP36-EGFP-Noc-02\nDone with 20190508-VIP36-EGFP-Noc-03\nDone with 20190508-VIP36-EGFP-Noc-04\nDone with 20190508-VIP36-EGFP-Noc-05\nDone with 20190508-VIP36-EGFP-Noc-06\nDone with 20190508-VIP36-EGFP-Noc-07\nDone with 20190508-VIP36-EGFP-Noc-08\nDone with 20190823-EGFP-Golph3-Noc-01\nDone with 20190823-EGFP-Golph3-Noc-02\nDone with 20190823-EGFP-Golph3-Noc-03\nDone with 20190823-EGFP-Golph3-Noc-04\nDone with 20190823-EGFP-Golph3-Noc-05\nDone with 20190823-EGFP-Golph3-Noc-06\nDone with 20190823-EGFP-Golph3-Noc-07\nDone with 20190823-EGFP-Golph3-Noc-08\nDone with 20190823-EGFP-Golph3-Noc-09\nDone with 20190823-EGFP-Golph3-Noc-10\nDone with 20190823-tetraspeckbeads-aft-01\nDone with 20190823-tetraspeckbeads-bef-01\n"
     ]
    }
   ],
   "source": [
    "for i in range(1,40):\n",
    "\n",
    "    \n",
    "    roi_co_file_path=folders_composite[i]+\"\\\\{}-ROI Coordinates.csv\".format(labels.iloc[i].values[0])\n",
    "    renamed_roi_file_path=folders_composite[i]+\"\\\\{}_golgy_coordinates.csv\".format(labels.iloc[i].values[0])\n",
    "\n",
    "    roi_coordinates=pd.read_csv(roi_co_file_path,index_col=0)\n",
    "    roi_coordinates.to_csv(renamed_roi_file_path)\n",
    "\n",
    "    print('Done with {}'.format(labels.iloc[i].values[0]))"
   ]
  },
  {
   "cell_type": "code",
   "execution_count": 11,
   "metadata": {},
   "outputs": [],
   "source": [
    "sys.setrecursionlimit(1000000)"
   ]
  },
  {
   "cell_type": "code",
   "execution_count": 29,
   "metadata": {},
   "outputs": [
    {
     "output_type": "stream",
     "name": "stdout",
     "text": [
      "Done with 20190508-C2GNT1-EGFP-Noc-02\n",
      "Done with 20190508-C2GNT1-EGFP-Noc-03\n",
      "Done with 20190508-C2GNT1-EGFP-Noc-04\n",
      "Done with 20190508-C2GNT1-EGFP-Noc-05\n",
      "Done with 20190508-GALNT4-EGFP-Noc-01\n",
      "Done with 20190508-GALNT4-EGFP-Noc-02\n",
      "Done with 20190508-GALNT4-EGFP-Noc-03\n",
      "Done with 20190508-GALNT4-EGFP-Noc-04\n",
      "Done with 20190508-GALNT4-EGFP-Noc-05\n",
      "Done with 20190508-GALNT8-EGFP-Noc-01\n",
      "Done with 20190508-GALNT8-EGFP-Noc-02\n",
      "Done with 20190508-GALNT8-EGFP-Noc-03\n",
      "Done with 20190508-GALNT8-EGFP-Noc-04\n",
      "Done with 20190508-GALNT8-EGFP-Noc-05\n",
      "Done with 20190508-GALNT8-EGFP-Noc-06\n",
      "Done with 20190508-GALNT8-EGFP-Noc-07\n",
      "Done with 20190508-GALNT8-EGFP-Noc-08\n",
      "Done with 20190508-tetraspeckbeads-aft-01\n",
      "Done with 20190508-tetraspeckbeads-bef-01\n",
      "Done with 20190508-VIP36-EGFP-Noc-01\n",
      "Done with 20190508-VIP36-EGFP-Noc-02\n",
      "Done with 20190508-VIP36-EGFP-Noc-03\n",
      "Done with 20190508-VIP36-EGFP-Noc-04\n",
      "Done with 20190508-VIP36-EGFP-Noc-05\n",
      "Done with 20190508-VIP36-EGFP-Noc-06\n",
      "Done with 20190508-VIP36-EGFP-Noc-07\n",
      "Done with 20190508-VIP36-EGFP-Noc-08\n",
      "Done with 20190823-EGFP-Golph3-Noc-01\n",
      "Done with 20190823-EGFP-Golph3-Noc-02\n",
      "Done with 20190823-EGFP-Golph3-Noc-03\n",
      "Done with 20190823-EGFP-Golph3-Noc-04\n",
      "Done with 20190823-EGFP-Golph3-Noc-05\n",
      "Done with 20190823-EGFP-Golph3-Noc-06\n",
      "Done with 20190823-EGFP-Golph3-Noc-07\n",
      "Done with 20190823-EGFP-Golph3-Noc-08\n",
      "Done with 20190823-EGFP-Golph3-Noc-09\n",
      "Done with 20190823-EGFP-Golph3-Noc-10\n",
      "Done with 20190823-tetraspeckbeads-aft-01\n",
      "Done with 20190823-tetraspeckbeads-bef-01\n"
     ]
    }
   ],
   "source": [
    "for k in range(1,40):\n",
    "    img_obj_file_path=folders_composite[k]+\"all_object.tif\"\n",
    "    img_obj=io.imread(img_obj_file_path)\n",
    "    \n",
    "    img_non_golgy_file_path=folders_composite[k]+\"non_golgy_object.tif\"\n",
    "    img_non_golgy_obj=io.imread(img_non_golgy_file_path)\n",
    "    \n",
    "    roi_co_file_path=folders_composite[k]+\"\\\\{}-ROI Coordinates.csv\".format(labels.iloc[k].values[0])\n",
    "    old_roi_co_file_path=folders_composite[k]+\"\\\\{}-ROI Coordinates - old.csv\".format(labels.iloc[k].values[0])\n",
    "\n",
    "    non_golgi_df=pd.DataFrame(columns=['top','bottom','left','right'])\n",
    "    obj_df=pd.DataFrame(columns=['top','bottom','left','right'])\n",
    "\n",
    "    ## Extract coordinates for all objects\n",
    "    i=0\n",
    "    j=0\n",
    "    while i<=1080:\n",
    "        iend=(i+50) if i+50<1080 else 1080\n",
    "        while j<=1280:\n",
    "            jend=(j+50) if j+50<1280 else 1280\n",
    "            ##print('Now {},{}'.format(i,j))\n",
    "            coordinates=GetCoordinates(img_obj,i,i+50,j,j+50)\n",
    "            if coordinates is not None:\n",
    "                obj_df=obj_df.append(coordinates).reset_index(drop=True)\n",
    "            j+=50\n",
    "        i+=50\n",
    "        j=0 \n",
    "    \n",
    "    ## Extract coordinates for non-golgy objects\n",
    "    i=0\n",
    "    j=0\n",
    "    while i<=1080:\n",
    "        iend=(i+50) if i+50<1080 else 1080\n",
    "        while j<=1280:\n",
    "            jend=(j+50) if j+50<1280 else 1280\n",
    "            ##print('Now {},{}'.format(i,j))\n",
    "            coordinates=GetCoordinates(img_non_golgy_obj,i,i+50,j,j+50)\n",
    "            if coordinates is not None:\n",
    "                non_golgi_df=non_golgi_df.append(coordinates).reset_index(drop=True)\n",
    "            j+=50\n",
    "        i+=50\n",
    "        j=0 \n",
    "\n",
    "\n",
    "    obj_co_file_path=folders_composite[k]+\"\\\\{}_all_coordinates.csv\".format(labels.iloc[k].values[0])\n",
    "    non_golgy_obj_co_file_path=folders_composite[k]+\"\\\\{}_non_golgy_coordinates.csv\".format(labels.iloc[k].values[0])\n",
    "\n",
    "    obj_df.to_csv(obj_co_file_path)\n",
    "    non_golgi_df.to_csv(non_golgy_obj_co_file_path)\n",
    "\n",
    "    print('Done with {}'.format(labels.iloc[k].values[0]))"
   ]
  },
  {
   "cell_type": "code",
   "execution_count": null,
   "metadata": {},
   "outputs": [],
   "source": []
  }
 ]
}